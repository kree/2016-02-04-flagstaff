{
 "cells": [
  {
   "cell_type": "markdown",
   "metadata": {},
   "source": [
    "Since by now you have all written some Python code that works, we are going to jump directly into doing some science tasks with data pulled directly from real sources, instead of using a dataset we cleaned for you.\n",
    "\n",
    "Some of the stuff we are going to do will be fairly advanced but I think that seeing how the language can automate your workflow - and especially how it can handle the tasks that are annoying or difficult - will make it more likely that you'll come back to it. We are throwing a lot at you, so put a red sticky up if you need hands-on help and interrupt if you have a question, and we'll adjust as we go."
   ]
  },
  {
   "cell_type": "markdown",
   "metadata": {},
   "source": [
    "We are interested in the comparing the discharge over a specific time period at different points along the Colorado River. The traditional way to do this is through the USGS website:\n",
    "\n",
    "http://waterwatch.usgs.gov/?m=real&r=az\n",
    "\n",
    "and then precisely selecting the station you want and going through the whole process by hand. At the end, you have end up with some csv files that look like this:\n",
    "\n",
    "http://waterdata.usgs.gov/az/nwis/uv?cb_00060=on&cb_00065=on&format=rdb&site_no=09380000&period=&begin_date=2016-01-01&end_date=2016-01-10\n",
    "\n",
    "The header is annoying because it doesn't always have the same number of lines. Depending on the specific options we selected, the table has a different number of columns. Automating the analysis of these files is rough, and it requires quite a bit of handholding in Excel. If we were to do this frequently or for many stations, the chances of introducing an error are high."
   ]
  },
  {
   "cell_type": "markdown",
   "metadata": {},
   "source": [
    "Instead of doing this by hand, we are going to automate the entire process of data import and processing using Python. We will write a script that will take two dates and a list of stations and will automatically create plots of the gage height and discharge for each of those stations.\n",
    "\n",
    "Early today we used a Python library called numpy to handle arrays of data. `numpy arrays` are matrices and are great for doing calculations on data, but they can only contain floats or integers. Tabular data are best handled by spreadsheets where entries such as dates and times are in some useful format.\n",
    "\n",
    "One of the best options for working with tabular data in Python is the Python Data Analysis Library (a.k.a. Pandas). The Pandas library provides data structures, produces high quality plots with matplotlib (the plotting library we used earlier) and integrates nicely with other libraries that can use numpy arrays.\n",
    "\n",
    "Let's start by importing streamgage data from a file that has already been partially cleaned up. Open the file in a text editor and see: we removed the header and the column format line (\"5d 15s...\"), and saved it as a comma-delimited file instead of tab delimited.\n",
    "\n",
    "We will first import the Pandas library and give it the shortcut `pd` and use the Pandas function `read_csv` to import the file. This will pull the contents of the file into a DataFrame. Let's assign it to a variable named `data` (so original!) and print the first 5 lines:"
   ]
  },
  {
   "cell_type": "code",
   "execution_count": 127,
   "metadata": {
    "collapsed": false
   },
   "outputs": [
    {
     "data": {
      "text/html": [
       "<div>\n",
       "<table border=\"1\" class=\"dataframe\">\n",
       "  <thead>\n",
       "    <tr style=\"text-align: right;\">\n",
       "      <th></th>\n",
       "      <th>agency_cd</th>\n",
       "      <th>site_no</th>\n",
       "      <th>datetime</th>\n",
       "      <th>tz_cd</th>\n",
       "      <th>01_00060</th>\n",
       "      <th>01_00060_cd</th>\n",
       "      <th>02_00065</th>\n",
       "      <th>02_00065_cd</th>\n",
       "    </tr>\n",
       "  </thead>\n",
       "  <tbody>\n",
       "    <tr>\n",
       "      <th>0</th>\n",
       "      <td>USGS</td>\n",
       "      <td>9163500</td>\n",
       "      <td>1/1/16 0:00</td>\n",
       "      <td>MST</td>\n",
       "      <td>3510</td>\n",
       "      <td>P</td>\n",
       "      <td>3.78</td>\n",
       "      <td>P</td>\n",
       "    </tr>\n",
       "    <tr>\n",
       "      <th>1</th>\n",
       "      <td>USGS</td>\n",
       "      <td>9163500</td>\n",
       "      <td>1/1/16 0:15</td>\n",
       "      <td>MST</td>\n",
       "      <td>3510</td>\n",
       "      <td>P</td>\n",
       "      <td>3.78</td>\n",
       "      <td>P</td>\n",
       "    </tr>\n",
       "    <tr>\n",
       "      <th>2</th>\n",
       "      <td>USGS</td>\n",
       "      <td>9163500</td>\n",
       "      <td>1/1/16 0:30</td>\n",
       "      <td>MST</td>\n",
       "      <td>3490</td>\n",
       "      <td>P</td>\n",
       "      <td>3.77</td>\n",
       "      <td>P</td>\n",
       "    </tr>\n",
       "    <tr>\n",
       "      <th>3</th>\n",
       "      <td>USGS</td>\n",
       "      <td>9163500</td>\n",
       "      <td>1/1/16 0:45</td>\n",
       "      <td>MST</td>\n",
       "      <td>3490</td>\n",
       "      <td>P</td>\n",
       "      <td>3.77</td>\n",
       "      <td>P</td>\n",
       "    </tr>\n",
       "    <tr>\n",
       "      <th>4</th>\n",
       "      <td>USGS</td>\n",
       "      <td>9163500</td>\n",
       "      <td>1/1/16 1:00</td>\n",
       "      <td>MST</td>\n",
       "      <td>3470</td>\n",
       "      <td>P</td>\n",
       "      <td>3.76</td>\n",
       "      <td>P</td>\n",
       "    </tr>\n",
       "  </tbody>\n",
       "</table>\n",
       "</div>"
      ],
      "text/plain": [
       "  agency_cd  site_no     datetime tz_cd  01_00060 01_00060_cd  02_00065  \\\n",
       "0      USGS  9163500  1/1/16 0:00   MST      3510           P      3.78   \n",
       "1      USGS  9163500  1/1/16 0:15   MST      3510           P      3.78   \n",
       "2      USGS  9163500  1/1/16 0:30   MST      3490           P      3.77   \n",
       "3      USGS  9163500  1/1/16 0:45   MST      3490           P      3.77   \n",
       "4      USGS  9163500  1/1/16 1:00   MST      3470           P      3.76   \n",
       "\n",
       "  02_00065_cd  \n",
       "0           P  \n",
       "1           P  \n",
       "2           P  \n",
       "3           P  \n",
       "4           P  "
      ]
     },
     "execution_count": 127,
     "metadata": {},
     "output_type": "execute_result"
    }
   ],
   "source": [
    "import pandas as pd\n",
    "\n",
    "data = pd.read_csv('data/streamgage.csv')\n",
    "data.head()"
   ]
  },
  {
   "cell_type": "markdown",
   "metadata": {},
   "source": [
    "## What's a DataFrame? {.callout}\n",
    "\n",
    "A DataFrame is a 2-dimensional data structure that can store data of different types (including characters, integers, floating point values, factors and more) in columns. It is similar to a spreadsheet or an SQL table or the data.frame in R.\n",
    "\n",
    "Check the data type of `data` using the `type` method. The `type` method and `__class__` attribute tell us what type of object the variable points to. We will not discuss the full meaning of this terminology, related to object-oriented programming, in the workshop."
   ]
  },
  {
   "cell_type": "code",
   "execution_count": 128,
   "metadata": {
    "collapsed": false
   },
   "outputs": [
    {
     "name": "stdout",
     "output_type": "stream",
     "text": [
      "<class 'pandas.core.frame.DataFrame'>\n",
      "<class 'pandas.core.frame.DataFrame'>\n"
     ]
    }
   ],
   "source": [
    "print type(data)\n",
    "print data.__class__"
   ]
  },
  {
   "cell_type": "markdown",
   "metadata": {},
   "source": [
    "Each column in a DataFrame also has a type. We can use `data.dtypes` to view the data type for each column. `int64` represents numeric integer values - `int64` cells can not store decimals. `object` represents strings (letters and numbers). `float64` represents numbers with decimals."
   ]
  },
  {
   "cell_type": "code",
   "execution_count": 129,
   "metadata": {
    "collapsed": false
   },
   "outputs": [
    {
     "data": {
      "text/plain": [
       "agency_cd       object\n",
       "site_no          int64\n",
       "datetime        object\n",
       "tz_cd           object\n",
       "01_00060         int64\n",
       "01_00060_cd     object\n",
       "02_00065       float64\n",
       "02_00065_cd     object\n",
       "dtype: object"
      ]
     },
     "execution_count": 129,
     "metadata": {},
     "output_type": "execute_result"
    }
   ],
   "source": [
    "data.dtypes"
   ]
  },
  {
   "cell_type": "markdown",
   "metadata": {},
   "source": [
    "We need to give the DataFrame column names that are easier to read. Let's create a list with the column names we want:"
   ]
  },
  {
   "cell_type": "code",
   "execution_count": 130,
   "metadata": {
    "collapsed": false
   },
   "outputs": [],
   "source": [
    "new_column_names = ['Agency', 'Station', 'OldDateTime', 'Timezone', 'Discharge_cfs', 'Discharge_stat', 'Stage_ft', 'Stage_stat']"
   ]
  },
  {
   "cell_type": "markdown",
   "metadata": {},
   "source": [
    "We can see the column names of a DataFrame using the method `columns`, and we can use that same method to assign it the new column names:"
   ]
  },
  {
   "cell_type": "code",
   "execution_count": 131,
   "metadata": {
    "collapsed": false
   },
   "outputs": [
    {
     "name": "stdout",
     "output_type": "stream",
     "text": [
      "Old column names: Index([u'agency_cd', u'site_no', u'datetime', u'tz_cd', u'01_00060',\n",
      "       u'01_00060_cd', u'02_00065', u'02_00065_cd'],\n",
      "      dtype='object')\n",
      "New column names: Index([u'Agency', u'Station', u'OldDateTime', u'Timezone', u'Discharge_cfs',\n",
      "       u'Discharge_stat', u'Stage_ft', u'Stage_stat'],\n",
      "      dtype='object')\n"
     ]
    }
   ],
   "source": [
    "print 'Old column names:', data.columns\n",
    "\n",
    "data.columns = new_column_names\n",
    "\n",
    "print 'New column names:', data.columns"
   ]
  },
  {
   "cell_type": "code",
   "execution_count": 132,
   "metadata": {
    "collapsed": false
   },
   "outputs": [
    {
     "data": {
      "text/html": [
       "<div>\n",
       "<table border=\"1\" class=\"dataframe\">\n",
       "  <thead>\n",
       "    <tr style=\"text-align: right;\">\n",
       "      <th></th>\n",
       "      <th>Agency</th>\n",
       "      <th>Station</th>\n",
       "      <th>OldDateTime</th>\n",
       "      <th>Timezone</th>\n",
       "      <th>Discharge_cfs</th>\n",
       "      <th>Discharge_stat</th>\n",
       "      <th>Stage_ft</th>\n",
       "      <th>Stage_stat</th>\n",
       "    </tr>\n",
       "  </thead>\n",
       "  <tbody>\n",
       "    <tr>\n",
       "      <th>0</th>\n",
       "      <td>USGS</td>\n",
       "      <td>9163500</td>\n",
       "      <td>1/1/16 0:00</td>\n",
       "      <td>MST</td>\n",
       "      <td>3510</td>\n",
       "      <td>P</td>\n",
       "      <td>3.78</td>\n",
       "      <td>P</td>\n",
       "    </tr>\n",
       "    <tr>\n",
       "      <th>1</th>\n",
       "      <td>USGS</td>\n",
       "      <td>9163500</td>\n",
       "      <td>1/1/16 0:15</td>\n",
       "      <td>MST</td>\n",
       "      <td>3510</td>\n",
       "      <td>P</td>\n",
       "      <td>3.78</td>\n",
       "      <td>P</td>\n",
       "    </tr>\n",
       "    <tr>\n",
       "      <th>2</th>\n",
       "      <td>USGS</td>\n",
       "      <td>9163500</td>\n",
       "      <td>1/1/16 0:30</td>\n",
       "      <td>MST</td>\n",
       "      <td>3490</td>\n",
       "      <td>P</td>\n",
       "      <td>3.77</td>\n",
       "      <td>P</td>\n",
       "    </tr>\n",
       "    <tr>\n",
       "      <th>3</th>\n",
       "      <td>USGS</td>\n",
       "      <td>9163500</td>\n",
       "      <td>1/1/16 0:45</td>\n",
       "      <td>MST</td>\n",
       "      <td>3490</td>\n",
       "      <td>P</td>\n",
       "      <td>3.77</td>\n",
       "      <td>P</td>\n",
       "    </tr>\n",
       "    <tr>\n",
       "      <th>4</th>\n",
       "      <td>USGS</td>\n",
       "      <td>9163500</td>\n",
       "      <td>1/1/16 1:00</td>\n",
       "      <td>MST</td>\n",
       "      <td>3470</td>\n",
       "      <td>P</td>\n",
       "      <td>3.76</td>\n",
       "      <td>P</td>\n",
       "    </tr>\n",
       "  </tbody>\n",
       "</table>\n",
       "</div>"
      ],
      "text/plain": [
       "  Agency  Station  OldDateTime Timezone  Discharge_cfs Discharge_stat  \\\n",
       "0   USGS  9163500  1/1/16 0:00      MST           3510              P   \n",
       "1   USGS  9163500  1/1/16 0:15      MST           3510              P   \n",
       "2   USGS  9163500  1/1/16 0:30      MST           3490              P   \n",
       "3   USGS  9163500  1/1/16 0:45      MST           3490              P   \n",
       "4   USGS  9163500  1/1/16 1:00      MST           3470              P   \n",
       "\n",
       "   Stage_ft Stage_stat  \n",
       "0      3.78          P  \n",
       "1      3.78          P  \n",
       "2      3.77          P  \n",
       "3      3.77          P  \n",
       "4      3.76          P  "
      ]
     },
     "execution_count": 132,
     "metadata": {},
     "output_type": "execute_result"
    }
   ],
   "source": [
    "data.head()"
   ]
  },
  {
   "cell_type": "markdown",
   "metadata": {},
   "source": [
    "The values in each column of a Pandas DataFrame can be accessed using the column name. If we want to access more than one column at once, we use a list of column names:"
   ]
  },
  {
   "cell_type": "code",
   "execution_count": 133,
   "metadata": {
    "collapsed": false
   },
   "outputs": [
    {
     "data": {
      "text/html": [
       "<div>\n",
       "<table border=\"1\" class=\"dataframe\">\n",
       "  <thead>\n",
       "    <tr style=\"text-align: right;\">\n",
       "      <th></th>\n",
       "      <th>Discharge_cfs</th>\n",
       "      <th>Stage_ft</th>\n",
       "    </tr>\n",
       "  </thead>\n",
       "  <tbody>\n",
       "    <tr>\n",
       "      <th>0</th>\n",
       "      <td>3510</td>\n",
       "      <td>3.78</td>\n",
       "    </tr>\n",
       "    <tr>\n",
       "      <th>1</th>\n",
       "      <td>3510</td>\n",
       "      <td>3.78</td>\n",
       "    </tr>\n",
       "    <tr>\n",
       "      <th>2</th>\n",
       "      <td>3490</td>\n",
       "      <td>3.77</td>\n",
       "    </tr>\n",
       "    <tr>\n",
       "      <th>3</th>\n",
       "      <td>3490</td>\n",
       "      <td>3.77</td>\n",
       "    </tr>\n",
       "    <tr>\n",
       "      <th>4</th>\n",
       "      <td>3470</td>\n",
       "      <td>3.76</td>\n",
       "    </tr>\n",
       "  </tbody>\n",
       "</table>\n",
       "</div>"
      ],
      "text/plain": [
       "   Discharge_cfs  Stage_ft\n",
       "0           3510      3.78\n",
       "1           3510      3.78\n",
       "2           3490      3.77\n",
       "3           3490      3.77\n",
       "4           3470      3.76"
      ]
     },
     "execution_count": 133,
     "metadata": {},
     "output_type": "execute_result"
    }
   ],
   "source": [
    "data[['Discharge_cfs','Stage_ft']].head()"
   ]
  },
  {
   "cell_type": "markdown",
   "metadata": {},
   "source": [
    "We can also create new columns using this syntax:"
   ]
  },
  {
   "cell_type": "code",
   "execution_count": 134,
   "metadata": {
    "collapsed": false
   },
   "outputs": [
    {
     "data": {
      "text/plain": [
       "0    1.152144\n",
       "1    1.152144\n",
       "2    1.149096\n",
       "3    1.149096\n",
       "4    1.146048\n",
       "Name: Stage_m, dtype: float64"
      ]
     },
     "execution_count": 134,
     "metadata": {},
     "output_type": "execute_result"
    }
   ],
   "source": [
    "data['Stage_m'] = data['Stage_ft'] * 0.3048\n",
    "data['Stage_m'].head()"
   ]
  },
  {
   "cell_type": "markdown",
   "metadata": {},
   "source": [
    "## Fixing the station name\n",
    "\n",
    "When Pandas imported the data, it read the station name as an integer and removed the initial zero. We can fix the station name by replacing the values of that column.\n",
    "\n",
    "Remember that we are doing all of this so we can later automate the process for multiple stations. Instead of writing the corrected station name ourselves, let's build it from the values available in the DataFrame:"
   ]
  },
  {
   "cell_type": "code",
   "execution_count": 141,
   "metadata": {
    "collapsed": false
   },
   "outputs": [
    {
     "data": {
      "text/plain": [
       "array([9163500])"
      ]
     },
     "execution_count": 141,
     "metadata": {},
     "output_type": "execute_result"
    }
   ],
   "source": [
    "data['Station'].unique()"
   ]
  },
  {
   "cell_type": "markdown",
   "metadata": {},
   "source": [
    "The Pandas method `unique` returns a `numpy` array of the unique elements in the DataFrame. We want the first (and only) entry to that array, which has the index 0. We can build a string with the correct station name by **casting** that integer as a string and concatenating with an initial zero:"
   ]
  },
  {
   "cell_type": "code",
   "execution_count": 142,
   "metadata": {
    "collapsed": false
   },
   "outputs": [
    {
     "name": "stdout",
     "output_type": "stream",
     "text": [
      "09163500\n"
     ]
    }
   ],
   "source": [
    "new_station_name = \"0\" + str(data['Station'].unique()[0])\n",
    "print new_station_name"
   ]
  },
  {
   "cell_type": "markdown",
   "metadata": {},
   "source": [
    "We can replace all values in the 'Station' column with this string by assignment, and we can check the object type of each column to make sure it is no longer an integer:"
   ]
  },
  {
   "cell_type": "code",
   "execution_count": 146,
   "metadata": {
    "collapsed": false
   },
   "outputs": [
    {
     "data": {
      "text/html": [
       "<div>\n",
       "<table border=\"1\" class=\"dataframe\">\n",
       "  <thead>\n",
       "    <tr style=\"text-align: right;\">\n",
       "      <th></th>\n",
       "      <th>Agency</th>\n",
       "      <th>Station</th>\n",
       "      <th>OldDateTime</th>\n",
       "      <th>Timezone</th>\n",
       "      <th>Discharge_cfs</th>\n",
       "      <th>Discharge_stat</th>\n",
       "      <th>Stage_ft</th>\n",
       "      <th>Stage_stat</th>\n",
       "      <th>Stage_m</th>\n",
       "    </tr>\n",
       "  </thead>\n",
       "  <tbody>\n",
       "    <tr>\n",
       "      <th>0</th>\n",
       "      <td>USGS</td>\n",
       "      <td>09163500</td>\n",
       "      <td>1/1/16 0:00</td>\n",
       "      <td>MST</td>\n",
       "      <td>3510</td>\n",
       "      <td>P</td>\n",
       "      <td>3.78</td>\n",
       "      <td>P</td>\n",
       "      <td>1.152144</td>\n",
       "    </tr>\n",
       "    <tr>\n",
       "      <th>1</th>\n",
       "      <td>USGS</td>\n",
       "      <td>09163500</td>\n",
       "      <td>1/1/16 0:15</td>\n",
       "      <td>MST</td>\n",
       "      <td>3510</td>\n",
       "      <td>P</td>\n",
       "      <td>3.78</td>\n",
       "      <td>P</td>\n",
       "      <td>1.152144</td>\n",
       "    </tr>\n",
       "    <tr>\n",
       "      <th>2</th>\n",
       "      <td>USGS</td>\n",
       "      <td>09163500</td>\n",
       "      <td>1/1/16 0:30</td>\n",
       "      <td>MST</td>\n",
       "      <td>3490</td>\n",
       "      <td>P</td>\n",
       "      <td>3.77</td>\n",
       "      <td>P</td>\n",
       "      <td>1.149096</td>\n",
       "    </tr>\n",
       "    <tr>\n",
       "      <th>3</th>\n",
       "      <td>USGS</td>\n",
       "      <td>09163500</td>\n",
       "      <td>1/1/16 0:45</td>\n",
       "      <td>MST</td>\n",
       "      <td>3490</td>\n",
       "      <td>P</td>\n",
       "      <td>3.77</td>\n",
       "      <td>P</td>\n",
       "      <td>1.149096</td>\n",
       "    </tr>\n",
       "    <tr>\n",
       "      <th>4</th>\n",
       "      <td>USGS</td>\n",
       "      <td>09163500</td>\n",
       "      <td>1/1/16 1:00</td>\n",
       "      <td>MST</td>\n",
       "      <td>3470</td>\n",
       "      <td>P</td>\n",
       "      <td>3.76</td>\n",
       "      <td>P</td>\n",
       "      <td>1.146048</td>\n",
       "    </tr>\n",
       "  </tbody>\n",
       "</table>\n",
       "</div>"
      ],
      "text/plain": [
       "  Agency   Station  OldDateTime Timezone  Discharge_cfs Discharge_stat  \\\n",
       "0   USGS  09163500  1/1/16 0:00      MST           3510              P   \n",
       "1   USGS  09163500  1/1/16 0:15      MST           3510              P   \n",
       "2   USGS  09163500  1/1/16 0:30      MST           3490              P   \n",
       "3   USGS  09163500  1/1/16 0:45      MST           3490              P   \n",
       "4   USGS  09163500  1/1/16 1:00      MST           3470              P   \n",
       "\n",
       "   Stage_ft Stage_stat   Stage_m  \n",
       "0      3.78          P  1.152144  \n",
       "1      3.78          P  1.152144  \n",
       "2      3.77          P  1.149096  \n",
       "3      3.77          P  1.149096  \n",
       "4      3.76          P  1.146048  "
      ]
     },
     "execution_count": 146,
     "metadata": {},
     "output_type": "execute_result"
    }
   ],
   "source": [
    "data['Station'] = new_station_name\n",
    "data.head()"
   ]
  },
  {
   "cell_type": "code",
   "execution_count": 147,
   "metadata": {
    "collapsed": false
   },
   "outputs": [
    {
     "data": {
      "text/plain": [
       "Agency             object\n",
       "Station            object\n",
       "OldDateTime        object\n",
       "Timezone           object\n",
       "Discharge_cfs       int64\n",
       "Discharge_stat     object\n",
       "Stage_ft          float64\n",
       "Stage_stat         object\n",
       "Stage_m           float64\n",
       "dtype: object"
      ]
     },
     "execution_count": 147,
     "metadata": {},
     "output_type": "execute_result"
    }
   ],
   "source": [
    "data.dtypes"
   ]
  },
  {
   "cell_type": "markdown",
   "metadata": {},
   "source": [
    "## Handling date and time stamps\n",
    "\n",
    "Different programming languages and software packages handle date and time stamps in their own unique and obscure ways. Pandas has a set of functions for creating and managing timeseries that is well described in the documentation.\n",
    "\n",
    "We need to convert the entries in the DateTime column into a format that Pandas recognizes. Luckily, the `to_datetime` function in the Pandas library can convert it directly:"
   ]
  },
  {
   "cell_type": "code",
   "execution_count": 115,
   "metadata": {
    "collapsed": false
   },
   "outputs": [
    {
     "data": {
      "text/html": [
       "<div>\n",
       "<table border=\"1\" class=\"dataframe\">\n",
       "  <thead>\n",
       "    <tr style=\"text-align: right;\">\n",
       "      <th></th>\n",
       "      <th>Agency</th>\n",
       "      <th>Station</th>\n",
       "      <th>OldDateTime</th>\n",
       "      <th>Timezone</th>\n",
       "      <th>Discharge_cfs</th>\n",
       "      <th>Discharge_stat</th>\n",
       "      <th>Stage_ft</th>\n",
       "      <th>Stage_stat</th>\n",
       "      <th>Stage_m</th>\n",
       "      <th>DateTime</th>\n",
       "    </tr>\n",
       "  </thead>\n",
       "  <tbody>\n",
       "    <tr>\n",
       "      <th>0</th>\n",
       "      <td>USGS</td>\n",
       "      <td>9163500</td>\n",
       "      <td>1/1/16 0:00</td>\n",
       "      <td>MST</td>\n",
       "      <td>3510</td>\n",
       "      <td>P</td>\n",
       "      <td>3.78</td>\n",
       "      <td>P</td>\n",
       "      <td>1.152144</td>\n",
       "      <td>2016-01-01 00:00:00</td>\n",
       "    </tr>\n",
       "    <tr>\n",
       "      <th>1</th>\n",
       "      <td>USGS</td>\n",
       "      <td>9163500</td>\n",
       "      <td>1/1/16 0:15</td>\n",
       "      <td>MST</td>\n",
       "      <td>3510</td>\n",
       "      <td>P</td>\n",
       "      <td>3.78</td>\n",
       "      <td>P</td>\n",
       "      <td>1.152144</td>\n",
       "      <td>2016-01-01 00:15:00</td>\n",
       "    </tr>\n",
       "    <tr>\n",
       "      <th>2</th>\n",
       "      <td>USGS</td>\n",
       "      <td>9163500</td>\n",
       "      <td>1/1/16 0:30</td>\n",
       "      <td>MST</td>\n",
       "      <td>3490</td>\n",
       "      <td>P</td>\n",
       "      <td>3.77</td>\n",
       "      <td>P</td>\n",
       "      <td>1.149096</td>\n",
       "      <td>2016-01-01 00:30:00</td>\n",
       "    </tr>\n",
       "    <tr>\n",
       "      <th>3</th>\n",
       "      <td>USGS</td>\n",
       "      <td>9163500</td>\n",
       "      <td>1/1/16 0:45</td>\n",
       "      <td>MST</td>\n",
       "      <td>3490</td>\n",
       "      <td>P</td>\n",
       "      <td>3.77</td>\n",
       "      <td>P</td>\n",
       "      <td>1.149096</td>\n",
       "      <td>2016-01-01 00:45:00</td>\n",
       "    </tr>\n",
       "    <tr>\n",
       "      <th>4</th>\n",
       "      <td>USGS</td>\n",
       "      <td>9163500</td>\n",
       "      <td>1/1/16 1:00</td>\n",
       "      <td>MST</td>\n",
       "      <td>3470</td>\n",
       "      <td>P</td>\n",
       "      <td>3.76</td>\n",
       "      <td>P</td>\n",
       "      <td>1.146048</td>\n",
       "      <td>2016-01-01 01:00:00</td>\n",
       "    </tr>\n",
       "  </tbody>\n",
       "</table>\n",
       "</div>"
      ],
      "text/plain": [
       "  Agency  Station  OldDateTime Timezone  Discharge_cfs Discharge_stat  \\\n",
       "0   USGS  9163500  1/1/16 0:00      MST           3510              P   \n",
       "1   USGS  9163500  1/1/16 0:15      MST           3510              P   \n",
       "2   USGS  9163500  1/1/16 0:30      MST           3490              P   \n",
       "3   USGS  9163500  1/1/16 0:45      MST           3490              P   \n",
       "4   USGS  9163500  1/1/16 1:00      MST           3470              P   \n",
       "\n",
       "   Stage_ft Stage_stat   Stage_m            DateTime  \n",
       "0      3.78          P  1.152144 2016-01-01 00:00:00  \n",
       "1      3.78          P  1.152144 2016-01-01 00:15:00  \n",
       "2      3.77          P  1.149096 2016-01-01 00:30:00  \n",
       "3      3.77          P  1.149096 2016-01-01 00:45:00  \n",
       "4      3.76          P  1.146048 2016-01-01 01:00:00  "
      ]
     },
     "execution_count": 115,
     "metadata": {},
     "output_type": "execute_result"
    }
   ],
   "source": [
    "data['DateTime'] = pd.to_datetime(data['OldDateTime'])\n",
    "data.head()"
   ]
  },
  {
   "cell_type": "code",
   "execution_count": 116,
   "metadata": {
    "collapsed": false
   },
   "outputs": [
    {
     "data": {
      "text/html": [
       "<div>\n",
       "<table border=\"1\" class=\"dataframe\">\n",
       "  <thead>\n",
       "    <tr style=\"text-align: right;\">\n",
       "      <th></th>\n",
       "      <th>Agency</th>\n",
       "      <th>Station</th>\n",
       "      <th>OldDateTime</th>\n",
       "      <th>Timezone</th>\n",
       "      <th>Discharge_cfs</th>\n",
       "      <th>Discharge_stat</th>\n",
       "      <th>Stage_ft</th>\n",
       "      <th>Stage_stat</th>\n",
       "      <th>Stage_m</th>\n",
       "      <th>DateTime</th>\n",
       "    </tr>\n",
       "  </thead>\n",
       "  <tbody>\n",
       "    <tr>\n",
       "      <th>0</th>\n",
       "      <td>USGS</td>\n",
       "      <td>9163500</td>\n",
       "      <td>1/1/16 0:00</td>\n",
       "      <td>MST</td>\n",
       "      <td>3510</td>\n",
       "      <td>P</td>\n",
       "      <td>3.78</td>\n",
       "      <td>P</td>\n",
       "      <td>1.152144</td>\n",
       "      <td>2016-01-01 00:00:00</td>\n",
       "    </tr>\n",
       "    <tr>\n",
       "      <th>1</th>\n",
       "      <td>USGS</td>\n",
       "      <td>9163500</td>\n",
       "      <td>1/1/16 0:15</td>\n",
       "      <td>MST</td>\n",
       "      <td>3510</td>\n",
       "      <td>P</td>\n",
       "      <td>3.78</td>\n",
       "      <td>P</td>\n",
       "      <td>1.152144</td>\n",
       "      <td>2016-01-01 00:15:00</td>\n",
       "    </tr>\n",
       "    <tr>\n",
       "      <th>2</th>\n",
       "      <td>USGS</td>\n",
       "      <td>9163500</td>\n",
       "      <td>1/1/16 0:30</td>\n",
       "      <td>MST</td>\n",
       "      <td>3490</td>\n",
       "      <td>P</td>\n",
       "      <td>3.77</td>\n",
       "      <td>P</td>\n",
       "      <td>1.149096</td>\n",
       "      <td>2016-01-01 00:30:00</td>\n",
       "    </tr>\n",
       "    <tr>\n",
       "      <th>3</th>\n",
       "      <td>USGS</td>\n",
       "      <td>9163500</td>\n",
       "      <td>1/1/16 0:45</td>\n",
       "      <td>MST</td>\n",
       "      <td>3490</td>\n",
       "      <td>P</td>\n",
       "      <td>3.77</td>\n",
       "      <td>P</td>\n",
       "      <td>1.149096</td>\n",
       "      <td>2016-01-01 00:45:00</td>\n",
       "    </tr>\n",
       "    <tr>\n",
       "      <th>4</th>\n",
       "      <td>USGS</td>\n",
       "      <td>9163500</td>\n",
       "      <td>1/1/16 1:00</td>\n",
       "      <td>MST</td>\n",
       "      <td>3470</td>\n",
       "      <td>P</td>\n",
       "      <td>3.76</td>\n",
       "      <td>P</td>\n",
       "      <td>1.146048</td>\n",
       "      <td>2016-01-01 01:00:00</td>\n",
       "    </tr>\n",
       "  </tbody>\n",
       "</table>\n",
       "</div>"
      ],
      "text/plain": [
       "  Agency  Station  OldDateTime Timezone  Discharge_cfs Discharge_stat  \\\n",
       "0   USGS  9163500  1/1/16 0:00      MST           3510              P   \n",
       "1   USGS  9163500  1/1/16 0:15      MST           3510              P   \n",
       "2   USGS  9163500  1/1/16 0:30      MST           3490              P   \n",
       "3   USGS  9163500  1/1/16 0:45      MST           3490              P   \n",
       "4   USGS  9163500  1/1/16 1:00      MST           3470              P   \n",
       "\n",
       "   Stage_ft Stage_stat   Stage_m            DateTime  \n",
       "0      3.78          P  1.152144 2016-01-01 00:00:00  \n",
       "1      3.78          P  1.152144 2016-01-01 00:15:00  \n",
       "2      3.77          P  1.149096 2016-01-01 00:30:00  \n",
       "3      3.77          P  1.149096 2016-01-01 00:45:00  \n",
       "4      3.76          P  1.146048 2016-01-01 01:00:00  "
      ]
     },
     "execution_count": 116,
     "metadata": {},
     "output_type": "execute_result"
    }
   ],
   "source": [
    "data.head()"
   ]
  },
  {
   "cell_type": "markdown",
   "metadata": {},
   "source": [
    "## Data subsets and removing columns\n",
    "\n",
    "The entries in our DataFrame `data` are indexed by the number in **bold** on the left side of the row. We can display a slice of the data using index ranges:"
   ]
  },
  {
   "cell_type": "code",
   "execution_count": 117,
   "metadata": {
    "collapsed": false
   },
   "outputs": [
    {
     "data": {
      "text/html": [
       "<div>\n",
       "<table border=\"1\" class=\"dataframe\">\n",
       "  <thead>\n",
       "    <tr style=\"text-align: right;\">\n",
       "      <th></th>\n",
       "      <th>Agency</th>\n",
       "      <th>Station</th>\n",
       "      <th>OldDateTime</th>\n",
       "      <th>Timezone</th>\n",
       "      <th>Discharge_cfs</th>\n",
       "      <th>Discharge_stat</th>\n",
       "      <th>Stage_ft</th>\n",
       "      <th>Stage_stat</th>\n",
       "      <th>Stage_m</th>\n",
       "      <th>DateTime</th>\n",
       "    </tr>\n",
       "  </thead>\n",
       "  <tbody>\n",
       "    <tr>\n",
       "      <th>0</th>\n",
       "      <td>USGS</td>\n",
       "      <td>9163500</td>\n",
       "      <td>1/1/16 0:00</td>\n",
       "      <td>MST</td>\n",
       "      <td>3510</td>\n",
       "      <td>P</td>\n",
       "      <td>3.78</td>\n",
       "      <td>P</td>\n",
       "      <td>1.152144</td>\n",
       "      <td>2016-01-01 00:00:00</td>\n",
       "    </tr>\n",
       "    <tr>\n",
       "      <th>1</th>\n",
       "      <td>USGS</td>\n",
       "      <td>9163500</td>\n",
       "      <td>1/1/16 0:15</td>\n",
       "      <td>MST</td>\n",
       "      <td>3510</td>\n",
       "      <td>P</td>\n",
       "      <td>3.78</td>\n",
       "      <td>P</td>\n",
       "      <td>1.152144</td>\n",
       "      <td>2016-01-01 00:15:00</td>\n",
       "    </tr>\n",
       "    <tr>\n",
       "      <th>2</th>\n",
       "      <td>USGS</td>\n",
       "      <td>9163500</td>\n",
       "      <td>1/1/16 0:30</td>\n",
       "      <td>MST</td>\n",
       "      <td>3490</td>\n",
       "      <td>P</td>\n",
       "      <td>3.77</td>\n",
       "      <td>P</td>\n",
       "      <td>1.149096</td>\n",
       "      <td>2016-01-01 00:30:00</td>\n",
       "    </tr>\n",
       "    <tr>\n",
       "      <th>3</th>\n",
       "      <td>USGS</td>\n",
       "      <td>9163500</td>\n",
       "      <td>1/1/16 0:45</td>\n",
       "      <td>MST</td>\n",
       "      <td>3490</td>\n",
       "      <td>P</td>\n",
       "      <td>3.77</td>\n",
       "      <td>P</td>\n",
       "      <td>1.149096</td>\n",
       "      <td>2016-01-01 00:45:00</td>\n",
       "    </tr>\n",
       "  </tbody>\n",
       "</table>\n",
       "</div>"
      ],
      "text/plain": [
       "  Agency  Station  OldDateTime Timezone  Discharge_cfs Discharge_stat  \\\n",
       "0   USGS  9163500  1/1/16 0:00      MST           3510              P   \n",
       "1   USGS  9163500  1/1/16 0:15      MST           3510              P   \n",
       "2   USGS  9163500  1/1/16 0:30      MST           3490              P   \n",
       "3   USGS  9163500  1/1/16 0:45      MST           3490              P   \n",
       "\n",
       "   Stage_ft Stage_stat   Stage_m            DateTime  \n",
       "0      3.78          P  1.152144 2016-01-01 00:00:00  \n",
       "1      3.78          P  1.152144 2016-01-01 00:15:00  \n",
       "2      3.77          P  1.149096 2016-01-01 00:30:00  \n",
       "3      3.77          P  1.149096 2016-01-01 00:45:00  "
      ]
     },
     "execution_count": 117,
     "metadata": {},
     "output_type": "execute_result"
    }
   ],
   "source": [
    "data[0:4]"
   ]
  },
  {
   "cell_type": "markdown",
   "metadata": {},
   "source": [
    "## `loc` or `iloc`? {.callout}\n",
    "\n",
    "Accessing individual rows or subsets of both rows and columns is a bit more obscure. We can select specific ranges of our data in both the row and column directions using either label or integer-based indexing.\n",
    "\n",
    "- `loc`: indexing via labels or integers\n",
    "- `iloc`: indexing via integers\n",
    "\n",
    "To select a subset of rows AND columns from our DataFrame, we can use the `iloc` method and the integer indices for both rows and columns:"
   ]
  },
  {
   "cell_type": "code",
   "execution_count": 118,
   "metadata": {
    "collapsed": false
   },
   "outputs": [
    {
     "data": {
      "text/html": [
       "<div>\n",
       "<table border=\"1\" class=\"dataframe\">\n",
       "  <thead>\n",
       "    <tr style=\"text-align: right;\">\n",
       "      <th></th>\n",
       "      <th>Stage_m</th>\n",
       "      <th>DateTime</th>\n",
       "    </tr>\n",
       "  </thead>\n",
       "  <tbody>\n",
       "    <tr>\n",
       "      <th>0</th>\n",
       "      <td>1.152144</td>\n",
       "      <td>2016-01-01 00:00:00</td>\n",
       "    </tr>\n",
       "    <tr>\n",
       "      <th>1</th>\n",
       "      <td>1.152144</td>\n",
       "      <td>2016-01-01 00:15:00</td>\n",
       "    </tr>\n",
       "  </tbody>\n",
       "</table>\n",
       "</div>"
      ],
      "text/plain": [
       "    Stage_m            DateTime\n",
       "0  1.152144 2016-01-01 00:00:00\n",
       "1  1.152144 2016-01-01 00:15:00"
      ]
     },
     "execution_count": 118,
     "metadata": {},
     "output_type": "execute_result"
    }
   ],
   "source": [
    "data.iloc[0:2,-2:]"
   ]
  },
  {
   "cell_type": "markdown",
   "metadata": {},
   "source": [
    "Or the `loc` method, using integer indices for rows and labels for columns:"
   ]
  },
  {
   "cell_type": "code",
   "execution_count": 119,
   "metadata": {
    "collapsed": false
   },
   "outputs": [
    {
     "data": {
      "text/html": [
       "<div>\n",
       "<table border=\"1\" class=\"dataframe\">\n",
       "  <thead>\n",
       "    <tr style=\"text-align: right;\">\n",
       "      <th></th>\n",
       "      <th>DateTime</th>\n",
       "      <th>Stage_m</th>\n",
       "    </tr>\n",
       "  </thead>\n",
       "  <tbody>\n",
       "    <tr>\n",
       "      <th>0</th>\n",
       "      <td>2016-01-01 00:00:00</td>\n",
       "      <td>1.152144</td>\n",
       "    </tr>\n",
       "    <tr>\n",
       "      <th>1</th>\n",
       "      <td>2016-01-01 00:15:00</td>\n",
       "      <td>1.152144</td>\n",
       "    </tr>\n",
       "    <tr>\n",
       "      <th>2</th>\n",
       "      <td>2016-01-01 00:30:00</td>\n",
       "      <td>1.149096</td>\n",
       "    </tr>\n",
       "  </tbody>\n",
       "</table>\n",
       "</div>"
      ],
      "text/plain": [
       "             DateTime   Stage_m\n",
       "0 2016-01-01 00:00:00  1.152144\n",
       "1 2016-01-01 00:15:00  1.152144\n",
       "2 2016-01-01 00:30:00  1.149096"
      ]
     },
     "execution_count": 119,
     "metadata": {},
     "output_type": "execute_result"
    }
   ],
   "source": [
    "data.loc[0:2, ['DateTime', 'Stage_m']]"
   ]
  },
  {
   "cell_type": "markdown",
   "metadata": {},
   "source": [
    "The number of rows that these two commands return is different! The method `iloc` behaves like other sequences in Python, ignoring the end bound. With `loc`, however, the start and end bounds of the row indices are included. Compare them using the `shape` method:"
   ]
  },
  {
   "cell_type": "code",
   "execution_count": 120,
   "metadata": {
    "collapsed": false
   },
   "outputs": [
    {
     "name": "stdout",
     "output_type": "stream",
     "text": [
      "With iloc: (2, 2)\n",
      "With loc: (3, 2)\n"
     ]
    }
   ],
   "source": [
    "print 'With iloc:', data.iloc[0:2,-2:].shape\n",
    "print 'With loc:', data.loc[0:2, ['DateTime', 'Stage_m']].shape"
   ]
  },
  {
   "cell_type": "markdown",
   "metadata": {},
   "source": [
    "Since we can call individual columns (or lists of columns) from a DataFrame, the simplest way to remove columns is by creating new DataFrames with only the columns we want:"
   ]
  },
  {
   "cell_type": "code",
   "execution_count": 121,
   "metadata": {
    "collapsed": false
   },
   "outputs": [
    {
     "data": {
      "text/html": [
       "<div>\n",
       "<table border=\"1\" class=\"dataframe\">\n",
       "  <thead>\n",
       "    <tr style=\"text-align: right;\">\n",
       "      <th></th>\n",
       "      <th>Station</th>\n",
       "      <th>DateTime</th>\n",
       "      <th>Discharge_cfs</th>\n",
       "      <th>Stage_ft</th>\n",
       "    </tr>\n",
       "  </thead>\n",
       "  <tbody>\n",
       "    <tr>\n",
       "      <th>0</th>\n",
       "      <td>9163500</td>\n",
       "      <td>2016-01-01 00:00:00</td>\n",
       "      <td>3510</td>\n",
       "      <td>3.78</td>\n",
       "    </tr>\n",
       "    <tr>\n",
       "      <th>1</th>\n",
       "      <td>9163500</td>\n",
       "      <td>2016-01-01 00:15:00</td>\n",
       "      <td>3510</td>\n",
       "      <td>3.78</td>\n",
       "    </tr>\n",
       "    <tr>\n",
       "      <th>2</th>\n",
       "      <td>9163500</td>\n",
       "      <td>2016-01-01 00:30:00</td>\n",
       "      <td>3490</td>\n",
       "      <td>3.77</td>\n",
       "    </tr>\n",
       "    <tr>\n",
       "      <th>3</th>\n",
       "      <td>9163500</td>\n",
       "      <td>2016-01-01 00:45:00</td>\n",
       "      <td>3490</td>\n",
       "      <td>3.77</td>\n",
       "    </tr>\n",
       "    <tr>\n",
       "      <th>4</th>\n",
       "      <td>9163500</td>\n",
       "      <td>2016-01-01 01:00:00</td>\n",
       "      <td>3470</td>\n",
       "      <td>3.76</td>\n",
       "    </tr>\n",
       "  </tbody>\n",
       "</table>\n",
       "</div>"
      ],
      "text/plain": [
       "   Station            DateTime  Discharge_cfs  Stage_ft\n",
       "0  9163500 2016-01-01 00:00:00           3510      3.78\n",
       "1  9163500 2016-01-01 00:15:00           3510      3.78\n",
       "2  9163500 2016-01-01 00:30:00           3490      3.77\n",
       "3  9163500 2016-01-01 00:45:00           3490      3.77\n",
       "4  9163500 2016-01-01 01:00:00           3470      3.76"
      ]
     },
     "execution_count": 121,
     "metadata": {},
     "output_type": "execute_result"
    }
   ],
   "source": [
    "clean_data = data[['Station', 'DateTime', 'Discharge_cfs', 'Stage_ft']]\n",
    "clean_data.head()"
   ]
  },
  {
   "cell_type": "markdown",
   "metadata": {},
   "source": [
    "## Plotting stage and discharge\n",
    "\n",
    "Pandas is well integrated with the `matplotlib` library that we used ealier in the tutorial. We can use the same functions we used before with `numpy` arrays, or we can use the plotting functions built into Pandas:"
   ]
  },
  {
   "cell_type": "code",
   "execution_count": 155,
   "metadata": {
    "collapsed": false
   },
   "outputs": [
    {
     "data": {
      "text/plain": [
       "<matplotlib.text.Text at 0x108c7fa90>"
      ]
     },
     "execution_count": 155,
     "metadata": {},
     "output_type": "execute_result"
    },
    {
     "data": {
      "image/png": "[encoded data removed]",
      "text/plain": [
       "<matplotlib.figure.Figure at 0x10870f290>"
      ]
     },
     "metadata": {},
     "output_type": "display_data"
    }
   ],
   "source": [
    "import matplotlib.pyplot as plt\n",
    "%matplotlib inline\n",
    "\n",
    "plt.plot(clean_data['DateTime'], clean_data['Discharge_cfs'])\n",
    "plt.title('Station ' + data['Station'][0])"
   ]
  },
  {
   "cell_type": "code",
   "execution_count": 156,
   "metadata": {
    "collapsed": false
   },
   "outputs": [
    {
     "data": {
      "text/plain": [
       "<matplotlib.axes._subplots.AxesSubplot at 0x108c75ed0>"
      ]
     },
     "execution_count": 156,
     "metadata": {},
     "output_type": "execute_result"
    },
    {
     "data": {
      "image/png": "[encoded data removed]",
      "text/plain": [
       "<matplotlib.figure.Figure at 0x108a21050>"
      ]
     },
     "metadata": {},
     "output_type": "display_data"
    }
   ],
   "source": [
    "clean_data.plot(x='DateTime', y='Stage_ft', title='Station ' + data['Station'][0])"
   ]
  },
  {
   "cell_type": "markdown",
   "metadata": {},
   "source": [
    "We can use `pyplot` methods to customize the Pandas plot and save the figure:"
   ]
  },
  {
   "cell_type": "code",
   "execution_count": 162,
   "metadata": {
    "collapsed": false
   },
   "outputs": [
    {
     "data": {
      "image/png": "[encoded data removed]",
      "text/plain": [
       "<matplotlib.figure.Figure at 0x108b44cd0>"
      ]
     },
     "metadata": {},
     "output_type": "display_data"
    },
    {
     "data": {
      "text/plain": [
       "<matplotlib.figure.Figure at 0x109bd4e90>"
      ]
     },
     "metadata": {},
     "output_type": "display_data"
    }
   ],
   "source": [
    "clean_data.plot(x='DateTime', y='Stage_ft', title='Station ' + data['Station'][0])\n",
    "plt.xlabel('Time')\n",
    "plt.ylabel('Stage (feet)')\n",
    "plt.show()\n",
    "plt.savefig('data/stage_' + data['Station'][0] + '.png')\n"
   ]
  },
  {
   "cell_type": "markdown",
   "metadata": {},
   "source": [
    "## Putting it all together\n",
    "\n",
    "Let's go back through the code we've written and put together just the commands we need to import data and make a plot of discharge."
   ]
  },
  {
   "cell_type": "code",
   "execution_count": 165,
   "metadata": {
    "collapsed": false
   },
   "outputs": [
    {
     "data": {
      "image/png": "[encoded data removed]",
      "text/plain": [
       "<matplotlib.figure.Figure at 0x109a61410>"
      ]
     },
     "metadata": {},
     "output_type": "display_data"
    }
   ],
   "source": [
    "import pandas as pd\n",
    "import matplotlib.pyplot as plt\n",
    "%matplotlib inline\n",
    "\n",
    "data = pd.read_csv('data/streamgage.csv')\n",
    "\n",
    "new_column_names = ['Agency', 'Station', 'OldDateTime', 'Timezone', 'Discharge_cfs', 'Discharge_stat', 'Stage_ft', 'Stage_stat']\n",
    "data.columns = new_column_names\n",
    "\n",
    "data['DateTime'] = pd.to_datetime(data['OldDateTime'])\n",
    "\n",
    "new_station_name = \"0\" + str(data['Station'].unique()[0])\n",
    "data['Station'] = new_station_name\n",
    "\n",
    "data.plot(x='DateTime', y='Discharge_cfs', title='Station ' + new_station_name)\n",
    "plt.xlabel('Time')\n",
    "plt.ylabel('Discharge (cfs)')\n",
    "plt.savefig('data/discharge_' + new_station_name + '.png')\n",
    "plt.show()"
   ]
  }
 ],
 "metadata": {
  "kernelspec": {
   "display_name": "Python 2",
   "language": "python",
   "name": "python2"
  },
  "language_info": {
   "codemirror_mode": {
    "name": "ipython",
    "version": 2
   },
   "file_extension": ".py",
   "mimetype": "text/x-python",
   "name": "python",
   "nbconvert_exporter": "python",
   "pygments_lexer": "ipython2",
   "version": "2.7.11"
  }
 },
 "nbformat": 4,
 "nbformat_minor": 0
}
